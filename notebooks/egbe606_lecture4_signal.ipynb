{
  "cells": [
    {
      "cell_type": "markdown",
      "metadata": {
        "id": "yrcvqqHA5ba-"
      },
      "source": [
        "# Example 1 : Regression / Interpolation"
      ]
    },
    {
      "cell_type": "code",
      "execution_count": null,
      "metadata": {
        "id": "zpYOp6oI5gVl"
      },
      "outputs": [],
      "source": [
        "import numpy as np\n",
        "import matplotlib.pyplot as plt\n",
        "from scipy import interpolate\n",
        "\n",
        "%matplotlib inline"
      ]
    },
    {
      "cell_type": "code",
      "execution_count": null,
      "metadata": {
        "colab": {
          "base_uri": "https://localhost:8080/",
          "height": 282
        },
        "id": "1YWgGfWm_nD_",
        "outputId": "abf03166-5467-4079-871a-6120d963ee1b"
      },
      "outputs": [],
      "source": [
        "# Create Sample Datapoints\n",
        "x = np.linspace(0, 10, 10)\n",
        "y = np.exp(x)\n",
        "plt.scatter(x, y)"
      ]
    },
    {
      "cell_type": "code",
      "execution_count": null,
      "metadata": {
        "id": "2CeTlt15_tkl"
      },
      "outputs": [],
      "source": [
        "# Trying to predict the in-between points. (It's often use for 'upsampling')\n",
        "x_pred = np.linspace(0, 10, 50)\n",
        "\n",
        "# Do interpolation using linear kernel\n",
        "s_linear = interpolate.interp1d(x, y) # kind='cubic'\n",
        "y_linear = s_linear(x_pred)\n",
        "\n",
        "# Do interpolation using cubic (polynomial) kernel\n",
        "s_cubic = interpolate.interp1d(x, y, kind='cubic')\n",
        "y_cubic = s_cubic(x_pred)"
      ]
    },
    {
      "cell_type": "code",
      "execution_count": null,
      "metadata": {
        "colab": {
          "base_uri": "https://localhost:8080/",
          "height": 281
        },
        "id": "C9FKCAeu_sqr",
        "outputId": "e2d7abf2-098f-4d64-eaf7-af6fbf4e04ad"
      },
      "outputs": [],
      "source": [
        "# Compair the Model\n",
        "plt.plot(x, y, 'x', x_pred, y_linear, 'b', x_pred, y_cubic, 'r')\n",
        "plt.legend(['Input Data', 'Linear', 'Cubic'])\n",
        "plt.title('Interpolation')\n",
        "plt.show()"
      ]
    },
    {
      "cell_type": "code",
      "execution_count": null,
      "metadata": {
        "id": "w9hRdLbGEPk6"
      },
      "outputs": [],
      "source": [
        "# Interpolation and only done the prediction in the range of training.\n",
        "# To predict the point which not in that range, use 'spline'.\n",
        "\n",
        "x_spline = np.linspace(0, 12, 100)\n",
        "s_spline = interpolate.splrep(x, y) # kind='cubic'\n",
        "y_spline = interpolate.splev(x_spline, s_spline)"
      ]
    },
    {
      "cell_type": "code",
      "execution_count": null,
      "metadata": {
        "colab": {
          "base_uri": "https://localhost:8080/",
          "height": 281
        },
        "id": "eSifgUYcEkMp",
        "outputId": "84dda6eb-bba8-4c10-a43a-8645cca0936a"
      },
      "outputs": [],
      "source": [
        "plt.plot(x, y, 'x',x_spline, y_spline, 'g',  x_pred, y_cubic, 'r', )\n",
        "plt.legend(['Input Data', 'Spline', 'Interpolation'])\n",
        "plt.title('Interpolation')\n",
        "plt.show()"
      ]
    },
    {
      "cell_type": "code",
      "execution_count": null,
      "metadata": {
        "id": "AXlN3XltF3cV"
      },
      "outputs": [],
      "source": [
        "# 2D Spline also usefull for upsampling, especially in image processing.\n",
        "\n",
        "x_edges, y_edges = np.mgrid[-1:1:21j, -1:1:21j]\n",
        "x = x_edges[:-1, :-1] + np.diff(x_edges[:2, 0])[0] / 2.\n",
        "y = y_edges[:-1, :-1] + np.diff(y_edges[0, :2])[0] / 2.\n",
        "z = (x+y) * np.exp(-6.0*(x*x+y*y))"
      ]
    },
    {
      "cell_type": "code",
      "execution_count": null,
      "metadata": {
        "colab": {
          "base_uri": "https://localhost:8080/",
          "height": 281
        },
        "id": "ZCR8PwINF-Kb",
        "outputId": "2d3066e1-174e-45ca-878b-29082ed22516"
      },
      "outputs": [],
      "source": [
        "plt.figure()\n",
        "lims = dict(cmap='RdBu_r', vmin=-0.25, vmax=0.25)\n",
        "plt.pcolormesh(x_edges, y_edges, z, shading='flat', **lims)\n",
        "plt.colorbar()\n",
        "plt.title(\"Sparsely sampled function.\")\n",
        "plt.show()"
      ]
    },
    {
      "cell_type": "code",
      "execution_count": null,
      "metadata": {
        "id": "fnPkyqCHGCSh"
      },
      "outputs": [],
      "source": [
        "xnew_edges, ynew_edges = np.mgrid[-1:1:71j, -1:1:71j]\n",
        "xnew = xnew_edges[:-1, :-1] + np.diff(xnew_edges[:2, 0])[0] / 2.\n",
        "ynew = ynew_edges[:-1, :-1] + np.diff(ynew_edges[0, :2])[0] / 2.\n",
        "tck = interpolate.bisplrep(x, y, z, s=0)\n",
        "znew = interpolate.bisplev(xnew[:,0], ynew[0,:], tck)"
      ]
    },
    {
      "cell_type": "code",
      "execution_count": null,
      "metadata": {
        "colab": {
          "base_uri": "https://localhost:8080/",
          "height": 281
        },
        "id": "x9l3LLAxGEDv",
        "outputId": "05470f0b-9bae-4bdb-d28f-a226b38da414"
      },
      "outputs": [],
      "source": [
        "plt.figure()\n",
        "plt.pcolormesh(xnew_edges, ynew_edges, znew, shading='flat', **lims)\n",
        "plt.colorbar()\n",
        "plt.title(\"Interpolated function.\")\n",
        "plt.show()"
      ]
    },
    {
      "cell_type": "markdown",
      "metadata": {
        "id": "71Zz2yDs5gtN"
      },
      "source": [
        "# Example 2 : Power Spectrum Density"
      ]
    },
    {
      "cell_type": "code",
      "execution_count": null,
      "metadata": {
        "colab": {
          "base_uri": "https://localhost:8080/",
          "height": 279
        },
        "id": "JkKH8fSX6I9F",
        "outputId": "d824c579-5123-4485-dc18-d71215bf11b3"
      },
      "outputs": [],
      "source": [
        "import matplotlib.pyplot as plt\n",
        "import numpy as np\n",
        "import matplotlib.mlab as mlab\n",
        "import matplotlib.gridspec as gridspec\n",
        "\n",
        "# Set some random seed\n",
        "np.random.seed(12123)\n",
        "\n",
        "# Common paremeters\n",
        "fs = 128\n",
        "dt = 1/fs\n",
        "t = np.arange(0, 10, dt)\n",
        "n = len(t)\n",
        "\n",
        "# Generaten random noise\n",
        "nse = np.random.randn(n)\n",
        "r = np.exp(-t / 0.05)\n",
        "cnse = np.convolve(nse, r) * dt\n",
        "cnse = cnse[:n]\n",
        "\n",
        "# Generate carrier frequence with random noise\n",
        "s = 0.1 * np.sin(2 * np.pi * t) + cnse\n",
        "\n",
        "# Plot Signal with PSD\n",
        "fig, (ax0, ax1) = plt.subplots(2, 1)\n",
        "ax0.plot(t, s)\n",
        "\n",
        "# False = No Scale = Power Spectrum / True = Scale = Unit is dB/Hz = Power Spectral Density\n",
        "p, freq = ax1.psd(s, n, fs, scale_by_freq=True) "
      ]
    },
    {
      "cell_type": "code",
      "execution_count": null,
      "metadata": {
        "colab": {
          "base_uri": "https://localhost:8080/",
          "height": 282
        },
        "id": "Ky-Gt7rvG-fY",
        "outputId": "4c5314e9-33ab-43e4-b3a8-b888cd710b97"
      },
      "outputs": [],
      "source": [
        "# Export the psd array for using in the future.\n",
        "plt.plot(freq, 10*np.log10(p)) # norm as DB"
      ]
    },
    {
      "cell_type": "markdown",
      "metadata": {
        "id": "Mc6ANC-p5zs8"
      },
      "source": [
        "# Example 3 : Spectrogram"
      ]
    },
    {
      "cell_type": "code",
      "execution_count": null,
      "metadata": {
        "colab": {
          "base_uri": "https://localhost:8080/",
          "height": 303
        },
        "id": "r5GvO5i9LbmD",
        "outputId": "7c5e8867-6450-49a0-d819-7ca9739bd849"
      },
      "outputs": [],
      "source": [
        "# Create action_signal\n",
        "action_signal = 0.05 * np.sin(25 * 2 * np.pi * t)\n",
        "action_signal[0:300] = 0\n",
        "action_signal[400:] = 0\n",
        "\n",
        "# Generate S with action_signal\n",
        "s_a = s + action_signal\n",
        "\n",
        "\n",
        "\n",
        "fig, (ax0, ax1, ax2, ax3) = plt.subplots(4, 1)\n",
        "ax0.plot(t, s)\n",
        "ax1.plot(t, action_signal)\n",
        "ax2.plot(t, s_a)\n",
        "p, freq = ax3.psd(s_a, n, fs, scale_by_freq=True) "
      ]
    },
    {
      "cell_type": "code",
      "execution_count": null,
      "metadata": {
        "colab": {
          "base_uri": "https://localhost:8080/",
          "height": 265
        },
        "id": "-TgxAM2wMmex",
        "outputId": "350a73cb-67ac-4d0d-8afc-43648bab3e58"
      },
      "outputs": [],
      "source": [
        "fig, (ax0, ax1, ax2, ax3) = plt.subplots(4, 1)\n",
        "ax0.plot(t, s)\n",
        "ax1.plot(t, action_signal)\n",
        "ax2.plot(t, s_a)\n",
        "p, freq, tout, img = ax3.specgram(s_a, fs, fs, scale_by_freq=True, noverlap=fs/2) "
      ]
    },
    {
      "cell_type": "markdown",
      "metadata": {
        "id": "0XHMIWvF54sj"
      },
      "source": [
        "# Example 4 : PCA"
      ]
    },
    {
      "cell_type": "code",
      "execution_count": null,
      "metadata": {
        "id": "ONFltqwF6JY1"
      },
      "outputs": [],
      "source": [
        "# load IRIS dataset\n",
        "import pandas as pd\n",
        "url = \"https://archive.ics.uci.edu/ml/machine-learning-databases/iris/iris.data\"\n",
        "df = pd.read_csv(url, names=['sepal length','sepal width','petal length','petal width','target'])"
      ]
    },
    {
      "cell_type": "code",
      "execution_count": null,
      "metadata": {
        "id": "2T4zZo0MST7f"
      },
      "outputs": [],
      "source": [
        "from sklearn.preprocessing import StandardScaler\n",
        "features = ['sepal length', 'sepal width', 'petal length', 'petal width']\n",
        "\n",
        "# Separating out the features\n",
        "x = df.loc[:, features].values\n",
        "\n",
        "# Separating out the target\n",
        "y = df.loc[:,['target']].values\n",
        "\n",
        "# Standardizing the features\n",
        "x = StandardScaler().fit_transform(x)"
      ]
    },
    {
      "cell_type": "code",
      "execution_count": null,
      "metadata": {
        "id": "6qAtgZYoS4Ut"
      },
      "outputs": [],
      "source": [
        "from sklearn.decomposition import PCA\n",
        "\n",
        "# Calculate the PCA\n",
        "pca = PCA()\n",
        "pca_model = pca.fit_transform(x)"
      ]
    },
    {
      "cell_type": "code",
      "execution_count": null,
      "metadata": {
        "colab": {
          "base_uri": "https://localhost:8080/"
        },
        "id": "JnwNBmXZdI4W",
        "outputId": "8c69087d-b1c9-4984-f69a-dd4633b0a46a"
      },
      "outputs": [],
      "source": [
        "# show all eigenvalue\n",
        "pca.explained_variance_ratio_"
      ]
    },
    {
      "cell_type": "code",
      "execution_count": null,
      "metadata": {
        "colab": {
          "base_uri": "https://localhost:8080/"
        },
        "id": "Yf-HYwx2dIgR",
        "outputId": "b2441f5c-cca2-436e-916e-3ac29ef20676"
      },
      "outputs": [],
      "source": [
        "# show all eigenvector\n",
        "for eigenvector in pca.components_:\n",
        "    print(eigenvector)"
      ]
    },
    {
      "cell_type": "code",
      "execution_count": null,
      "metadata": {
        "id": "91XyrzOFVdvK"
      },
      "outputs": [],
      "source": [
        "# Calculate and pick only best n components\n",
        "pca = PCA(n_components=2)\n",
        "pca_model = pca.fit_transform(x)\n",
        "\n",
        "pca_df = pd.DataFrame(data = pca_model, columns = ['PC 1', 'PC 2'])"
      ]
    },
    {
      "cell_type": "code",
      "execution_count": null,
      "metadata": {
        "id": "6Kww6jb-S5Rm"
      },
      "outputs": [],
      "source": [
        "final_df = pd.concat([pca_df, df[['target']]], axis = 1)"
      ]
    },
    {
      "cell_type": "code",
      "execution_count": null,
      "metadata": {
        "colab": {
          "base_uri": "https://localhost:8080/",
          "height": 523
        },
        "id": "YfVDGR8IS6TS",
        "outputId": "273f6f49-17b9-4cbe-92d7-206cfb37d13c"
      },
      "outputs": [],
      "source": [
        "fig = plt.figure(figsize = (8,8))\n",
        "ax = fig.add_subplot(1,1,1) \n",
        "ax.set_xlabel('PC 1', fontsize = 15)\n",
        "ax.set_ylabel('PC 2', fontsize = 15)\n",
        "ax.set_title('2 component PCA', fontsize = 20)\n",
        "targets = ['Iris-setosa', 'Iris-versicolor', 'Iris-virginica']\n",
        "colors = ['r', 'g', 'b']\n",
        "for target, color in zip(targets,colors):\n",
        "    indicesToKeep = final_df ['target'] == target\n",
        "    ax.scatter(final_df.loc[indicesToKeep, 'PC 1']\n",
        "               , final_df.loc[indicesToKeep, 'PC 2']\n",
        "               , c = color\n",
        "               , s = 50)\n",
        "ax.legend(targets)\n",
        "ax.grid()"
      ]
    },
    {
      "cell_type": "code",
      "execution_count": null,
      "metadata": {
        "colab": {
          "base_uri": "https://localhost:8080/"
        },
        "id": "1jbqZZwXS7jX",
        "outputId": "c47ca9b0-c6ca-439f-b0da-20e2749ab9f3"
      },
      "outputs": [],
      "source": [
        "pca.explained_variance_ratio_"
      ]
    },
    {
      "cell_type": "code",
      "execution_count": null,
      "metadata": {
        "colab": {
          "base_uri": "https://localhost:8080/"
        },
        "id": "WJLIMtVqXceF",
        "outputId": "c92a1f30-7093-4ffd-ee5a-a3a4931968e6"
      },
      "outputs": [],
      "source": [
        "for eigenvector in pca.components_:\n",
        "    print(eigenvector)"
      ]
    },
    {
      "cell_type": "markdown",
      "metadata": {
        "id": "p3PJHKt66DAv"
      },
      "source": [
        "# Example 5 : ICA"
      ]
    },
    {
      "cell_type": "code",
      "execution_count": null,
      "metadata": {
        "id": "y0uZSDz-DdiL"
      },
      "outputs": [],
      "source": [
        "import numpy as np\n",
        "import matplotlib.pyplot as plt\n",
        "from scipy import signal\n",
        "\n",
        "from sklearn.decomposition import FastICA, PCA\n",
        "\n",
        "# Common parameters\n",
        "np.random.seed(12123)\n",
        "n = 1000\n",
        "t = np.linspace(0, 8, n)\n"
      ]
    },
    {
      "cell_type": "code",
      "execution_count": null,
      "metadata": {
        "id": "iEtIpe5HDeiv"
      },
      "outputs": [],
      "source": [
        "# Generate Signal Sources\n",
        "s1 = np.sin(np.pi * t)         # Signal 1 : Sin\n",
        "s2 = np.sign(np.sin(5 * t))    # Signal 2 : Square\n",
        "s3 = np.sin(3 * np.pi * t)     # Signal 3 : Sin (Higher Freq.)\n",
        "\n",
        "S = np.c_[s1, s2, s3]\n",
        "\n",
        "# Add Noise\n",
        "S += 0.2 * np.random.normal(size=S.shape)\n",
        "\n",
        "# Standardize data\n",
        "S /= S.std(axis=0)  "
      ]
    },
    {
      "cell_type": "code",
      "execution_count": null,
      "metadata": {
        "id": "vZ6zESKuDhsn"
      },
      "outputs": [],
      "source": [
        "# Cretae a Mixing Matrix (Transfer function of source->measurement)\n",
        "A = np.array([[1, 1, 1], [0.5, 3.0, 1.0], [2.0, 1.0, 3.0]])\n",
        "\n",
        "# Generate the simulated observation\n",
        "X = np.dot(S, A.T)"
      ]
    },
    {
      "cell_type": "code",
      "execution_count": null,
      "metadata": {
        "id": "XRMlsy0iDn50"
      },
      "outputs": [],
      "source": [
        "# Compute ICA\n",
        "ica = FastICA(n_components=3)\n",
        "S_ = ica.fit_transform(X)"
      ]
    },
    {
      "cell_type": "code",
      "execution_count": null,
      "metadata": {
        "colab": {
          "base_uri": "https://localhost:8080/"
        },
        "id": "bn1qKhg7DpcT",
        "outputId": "9c8867d8-0f94-4fbd-d873-7a39658bcc8d"
      },
      "outputs": [],
      "source": [
        "# Show estimated transfer function (ideal: equal to mixing matrix)\n",
        "A_ = ica.mixing_  \n",
        "A_"
      ]
    },
    {
      "cell_type": "code",
      "execution_count": null,
      "metadata": {
        "id": "dCEyqbi4Dtei"
      },
      "outputs": [],
      "source": [
        "# Reconstruct data using reverse of estimated mixing matrix.\n",
        "assert np.allclose(X, np.dot(S_, A_.T) + ica.mean_)"
      ]
    },
    {
      "cell_type": "code",
      "execution_count": null,
      "metadata": {
        "colab": {
          "base_uri": "https://localhost:8080/",
          "height": 297
        },
        "id": "vxqIZtiu6Fxa",
        "outputId": "2614c595-11fd-404f-8c5b-1c84e8a3728c"
      },
      "outputs": [],
      "source": [
        "# Show Result\n",
        "plt.figure()\n",
        "\n",
        "models = [X, S, S_]\n",
        "names = [\n",
        "    \"Observations (mixed signal)\",\n",
        "    \"True Sources\",\n",
        "    \"ICA recovered signals\"\n",
        "]\n",
        "\n",
        "colors = [\"steelblue\", \"orange\", \"red\"]\n",
        "\n",
        "for ii, (model, name) in enumerate(zip(models, names), 1):\n",
        "    plt.subplot(3, 1, ii)\n",
        "    plt.title(name)\n",
        "    for sig, color in zip(model.T, colors):\n",
        "        plt.plot(sig, color=color)\n",
        "\n",
        "plt.tight_layout()\n",
        "plt.show()"
      ]
    },
    {
      "cell_type": "markdown",
      "metadata": {
        "id": "jNAio3rU6KqK"
      },
      "source": [
        "# Example 6 : EEG Band Power"
      ]
    },
    {
      "cell_type": "code",
      "execution_count": null,
      "metadata": {
        "colab": {
          "base_uri": "https://localhost:8080/"
        },
        "id": "aep3tiKGtFy1",
        "outputId": "f4c55f77-f5a3-4fed-e29c-c8f85167f9ab"
      },
      "outputs": [],
      "source": [
        "# load dataset\n",
        "#http://bnci-horizon-2020.eu/database/data-sets\n",
        "# 2. Two class motor imagery (002-2014)\n",
        "\n",
        "!wget http://bnci-horizon-2020.eu/database/data-sets/002-2014/S01T.mat"
      ]
    },
    {
      "cell_type": "code",
      "execution_count": null,
      "metadata": {
        "colab": {
          "base_uri": "https://localhost:8080/"
        },
        "id": "l34JFnROs6Fs",
        "outputId": "0a1e7f5f-d852-4cbc-c989-0f623c96b603"
      },
      "outputs": [],
      "source": [
        "# load .mat to python\n",
        "import scipy.io\n",
        "mat = scipy.io.loadmat('/content/S01T.mat')\n",
        "\n",
        "mat.keys()"
      ]
    },
    {
      "cell_type": "code",
      "execution_count": null,
      "metadata": {
        "id": "SPjMzg-LtjsI"
      },
      "outputs": [],
      "source": [
        "# get only expected data ([0,0] must used due to the limitation of the library.)\n",
        "session_data = mat['data'][0,0]"
      ]
    },
    {
      "cell_type": "code",
      "execution_count": null,
      "metadata": {
        "colab": {
          "base_uri": "https://localhost:8080/"
        },
        "id": "Ll_5C8HVwYxH",
        "outputId": "0d90eed3-42cd-46db-cdf5-c461b13cfaec"
      },
      "outputs": [],
      "source": [
        "# get a session of data\n",
        "eeg = session_data['X'][0,0] # [:, ch]\n",
        "marker = session_data['trial'][0,0]\n",
        "fs = int(session_data['fs'][0,0])\n",
        "class_id = session_data['y']\n",
        "\n",
        "# convert to string label\n",
        "class_label = list(session_data['classes'][0,0][0])\n",
        "class_label = [str(i[0]) for i in class_label]\n",
        "class_label"
      ]
    },
    {
      "cell_type": "code",
      "execution_count": null,
      "metadata": {
        "colab": {
          "base_uri": "https://localhost:8080/",
          "height": 265
        },
        "id": "swbUFWUYztN0",
        "outputId": "f03a2b25-ffe6-4da0-f131-dcd754421580"
      },
      "outputs": [],
      "source": [
        "# select on one channel\n",
        "ch_id = 7\n",
        "\n",
        "# select the range of data \n",
        "# For demo: first 20 seconds : Class 1 for 10 secs and Class 2 for 10 secs\n",
        "rawdata = eeg[:,0]  \n",
        "\n",
        "fig, (ax0, ax1) = plt.subplots(2, 1)\n",
        "ax0.plot(rawdata)\n",
        "p, freq, tout, img = ax1.specgram(rawdata, fs, fs, scale_by_freq=True, noverlap=fs/2) # False = No Scale = Power Spectrum / True = Scale = Unit is dB/Hz = Power Spectral Density"
      ]
    },
    {
      "cell_type": "code",
      "execution_count": null,
      "metadata": {
        "colab": {
          "base_uri": "https://localhost:8080/"
        },
        "id": "5HgswaxI2pcA",
        "outputId": "570f915a-0305-4aca-ee46-3032354d1873"
      },
      "outputs": [],
      "source": [
        "p.shape"
      ]
    },
    {
      "cell_type": "code",
      "execution_count": null,
      "metadata": {
        "colab": {
          "base_uri": "https://localhost:8080/"
        },
        "id": "Y5XDyHlu3g45",
        "outputId": "733499b3-dd18-4248-ec5d-94e8d6fd98de"
      },
      "outputs": [],
      "source": [
        "freq"
      ]
    },
    {
      "cell_type": "code",
      "execution_count": null,
      "metadata": {
        "id": "y73X1n2C3v8E"
      },
      "outputs": [],
      "source": [
        "# Generate Band Power matrix\n",
        "bp = np.zeros((p.shape[1], 5)) # 5 bands\n",
        "\n",
        "# Delta : 0.5-4 Hz\n",
        "ft = np.where(np.logical_and(freq >= 0.5,freq < 4))[0]\n",
        "bp[:,0] = np.sum(p[ft,:], 0)\n",
        "\n",
        "# Theta : 4-7 Hz\n",
        "ft = np.where(np.logical_and(freq >= 4,freq < 8))[0]\n",
        "bp[:,1] = np.sum(p[ft,:], 0)\n",
        "\n",
        "# Alpha : 8-12 Hz\n",
        "ft = np.where(np.logical_and(freq >= 8,freq < 13))[0]\n",
        "bp[:,2] = np.sum(p[ft,:], 0)\n",
        "\n",
        "# Beta : 13-30 Hz\n",
        "ft = np.where(np.logical_and(freq >= 13,freq < 30))[0]\n",
        "bp[:,3] = np.sum(p[ft,:], 0)\n",
        "\n",
        "# Beta : 31 - 100 Hz (* based on paper.)\n",
        "ft = np.where(np.logical_and(freq >=30,freq < 100))[0]\n",
        "bp[:,4] = np.sum(p[ft,:], 0)"
      ]
    },
    {
      "cell_type": "code",
      "execution_count": null,
      "metadata": {
        "colab": {
          "base_uri": "https://localhost:8080/"
        },
        "id": "ZI5xwhq65tH-",
        "outputId": "828467a1-27e2-42f6-cd5b-6324859a559b"
      },
      "outputs": [],
      "source": [
        "features = ['Delta', 'Theta', 'Alpha', 'Beta', 'Gamma']\n",
        "bp.shape"
      ]
    },
    {
      "cell_type": "code",
      "execution_count": null,
      "metadata": {
        "id": "aXc0NP7E3ND7"
      },
      "outputs": [],
      "source": [
        "from sklearn.preprocessing import StandardScaler\n",
        "features = ['D', 'T', 'A', 'B', 'G']\n",
        "\n",
        "x = StandardScaler().fit_transform(bp)"
      ]
    },
    {
      "cell_type": "code",
      "execution_count": null,
      "metadata": {
        "colab": {
          "base_uri": "https://localhost:8080/"
        },
        "id": "yTshv2B6566K",
        "outputId": "b09bd829-ba99-4d25-a659-59815bb9f069"
      },
      "outputs": [],
      "source": [
        "from sklearn.decomposition import PCA\n",
        "pca = PCA()\n",
        "principalComponents = pca.fit_transform(x)\n",
        "\n",
        "pca.explained_variance_ratio_"
      ]
    }
  ],
  "metadata": {
    "colab": {
      "collapsed_sections": [],
      "name": "egbe606-lecture4-signal",
      "provenance": []
    },
    "kernelspec": {
      "display_name": "Python 3",
      "name": "python3"
    },
    "language_info": {
      "name": "python"
    }
  },
  "nbformat": 4,
  "nbformat_minor": 0
}
