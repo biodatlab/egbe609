{
 "cells": [
  {
   "cell_type": "markdown",
   "id": "bronze-upset",
   "metadata": {},
   "source": [
    "## **Gradient descent**"
   ]
  },
  {
   "cell_type": "code",
   "execution_count": null,
   "id": "baking-ozone",
   "metadata": {},
   "outputs": [],
   "source": [
    "alpha = 0.02\n",
    "x = 10.0\n",
    "\n",
    "def compute_grad(x):\n",
    "    grad = 2 * x - 4\n",
    "    return grad\n",
    "\n",
    "for _ in range(1000):\n",
    "    x = x - alpha * compute_grad(x)\n",
    "print(x)"
   ]
  },
  {
   "cell_type": "markdown",
   "id": "finite-perth",
   "metadata": {},
   "source": [
    "## **Gradient descent with Pytorch**"
   ]
  },
  {
   "cell_type": "code",
   "execution_count": null,
   "id": "focal-pocket",
   "metadata": {},
   "outputs": [],
   "source": [
    "import torch"
   ]
  },
  {
   "cell_type": "code",
   "execution_count": null,
   "id": "streaming-respect",
   "metadata": {},
   "outputs": [],
   "source": [
    "x = torch.tensor(10, dtype=torch.float, requires_grad=True)\n",
    "cost = torch.sum(x * x - 4 * x)\n",
    "cost.backward() # calculate gradient using \"backward\"\n",
    "print(x.grad) # gradient"
   ]
  },
  {
   "cell_type": "markdown",
   "id": "civil-values",
   "metadata": {},
   "source": [
    "## **Gradient Descent for regression**"
   ]
  },
  {
   "cell_type": "code",
   "execution_count": null,
   "id": "neither-framework",
   "metadata": {},
   "outputs": [],
   "source": []
  },
  {
   "cell_type": "markdown",
   "id": "twelve-mileage",
   "metadata": {},
   "source": [
    "## **Gradient Descent for logistic regression**"
   ]
  },
  {
   "cell_type": "code",
   "execution_count": null,
   "id": "sticky-wonder",
   "metadata": {},
   "outputs": [],
   "source": []
  }
 ],
 "metadata": {
  "kernelspec": {
   "display_name": "Python 3",
   "language": "python",
   "name": "python3"
  },
  "language_info": {
   "codemirror_mode": {
    "name": "ipython",
    "version": 3
   },
   "file_extension": ".py",
   "mimetype": "text/x-python",
   "name": "python",
   "nbconvert_exporter": "python",
   "pygments_lexer": "ipython3",
   "version": "3.7.4"
  }
 },
 "nbformat": 4,
 "nbformat_minor": 5
}
