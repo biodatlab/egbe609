{
 "cells": [
  {
   "cell_type": "markdown",
   "id": "processed-portrait",
   "metadata": {},
   "source": [
    "## **Regular expression**"
   ]
  },
  {
   "cell_type": "code",
   "execution_count": null,
   "id": "geographic-cradle",
   "metadata": {},
   "outputs": [],
   "source": [
    "import re"
   ]
  },
  {
   "cell_type": "code",
   "execution_count": null,
   "id": "unlike-event",
   "metadata": {},
   "outputs": [],
   "source": [
    "address = \"University of Pennsylvania, Philadelphia, PA 19104\"\n",
    "re.search('\\d{5}(-\\d{4})?$', address).group()"
   ]
  },
  {
   "cell_type": "markdown",
   "id": "guided-jackson",
   "metadata": {},
   "source": [
    "## **Text normalization**\n",
    "\n",
    "- Lemmatization"
   ]
  },
  {
   "cell_type": "code",
   "execution_count": null,
   "id": "detailed-reset",
   "metadata": {},
   "outputs": [],
   "source": [
    "import spacy\n",
    "\n",
    "nlp = spacy.load(\"en_core_web_sm\")"
   ]
  },
  {
   "cell_type": "code",
   "execution_count": null,
   "id": "suburban-council",
   "metadata": {},
   "outputs": [],
   "source": [
    "text = (\n",
    "    \"The Martian is a 2011 science fiction debut novel written by Andy Weir. \"\n",
    "    \"The book was originally self-published on Weir's blog, in a serialized format. \"\n",
    "    \"In 2014, the book was re-released after Crown Publishing Group purchased the exclusive publishing rights.\"\n",
    ")\n",
    "text = nlp(text)"
   ]
  },
  {
   "cell_type": "code",
   "execution_count": null,
   "id": "square-surgery",
   "metadata": {},
   "outputs": [],
   "source": [
    "# is -> be, written -> write\n",
    "print(' '.join([token.lemma_ for token in text]))"
   ]
  },
  {
   "cell_type": "code",
   "execution_count": null,
   "id": "renewable-cutting",
   "metadata": {},
   "outputs": [],
   "source": [
    "# Clean HTML Tag\n",
    "from bs4 import BeautifulSoup\n",
    "text = (\n",
    "    \"<p><b>The Martian</b> is a 2011 science fiction debut novel written by Andy Weir.</p> \"\n",
    "    \"<p>The book was originally self-published on Weir's blog, in a serialized format.</p> \"\n",
    "    \"<p>In 2014, the book was re-released after Crown Publishing Group purchased the exclusive publishing rights.</p>\"\n",
    ")\n",
    "outtext = BeautifulSoup(text, \"html.parser\").text\n",
    "print(outtext)"
   ]
  },
  {
   "cell_type": "markdown",
   "id": "composed-acrylic",
   "metadata": {},
   "source": [
    "## **Sentiment analysis**"
   ]
  },
  {
   "cell_type": "code",
   "execution_count": null,
   "id": "possible-valley",
   "metadata": {},
   "outputs": [],
   "source": [
    "import pandas as pd\n",
    "from sklearn.model_selection import train_test_split\n",
    "from sklearn.feature_extraction.text import CountVectorizer\n",
    "from sklearn.linear_model import LogisticRegression\n",
    "from sklearn.metrics import precision_recall_fscore_support"
   ]
  },
  {
   "cell_type": "code",
   "execution_count": null,
   "id": "colored-scope",
   "metadata": {},
   "outputs": [],
   "source": [
    "path = \"https://raw.githubusercontent.com/vineetdhanawat/twitter-sentiment-analysis/master/datasets/Sentiment%20Analysis%20Dataset%20100000.csv\""
   ]
  },
  {
   "cell_type": "code",
   "execution_count": null,
   "id": "powered-newsletter",
   "metadata": {},
   "outputs": [],
   "source": [
    "df = pd.read_csv(path, encoding=\"ISO-8859-1\")"
   ]
  },
  {
   "cell_type": "code",
   "execution_count": null,
   "id": "restricted-saver",
   "metadata": {},
   "outputs": [],
   "source": [
    "df_train, df_val = train_test_split(df)"
   ]
  },
  {
   "cell_type": "code",
   "execution_count": null,
   "id": "collective-facing",
   "metadata": {},
   "outputs": [],
   "source": [
    "count = CountVectorizer()\n",
    "X_train = count.fit_transform(df_train.SentimentText)\n",
    "y_train = df_train.Sentiment.values"
   ]
  },
  {
   "cell_type": "code",
   "execution_count": null,
   "id": "engaging-church",
   "metadata": {},
   "outputs": [],
   "source": [
    "X_val = count.transform(df_val.SentimentText)\n",
    "y_val = df_val.Sentiment.values"
   ]
  },
  {
   "cell_type": "code",
   "execution_count": null,
   "id": "effective-africa",
   "metadata": {},
   "outputs": [],
   "source": [
    "logist = LogisticRegression()\n",
    "logist.fit(X_train, y_train)"
   ]
  },
  {
   "cell_type": "code",
   "execution_count": null,
   "id": "southeast-variance",
   "metadata": {},
   "outputs": [],
   "source": [
    "y_pred = logist.predict(X_train)"
   ]
  },
  {
   "cell_type": "code",
   "execution_count": null,
   "id": "hybrid-teddy",
   "metadata": {},
   "outputs": [],
   "source": [
    "precision_recall_fscore_support(y_train, y_pred, average=\"binary\")"
   ]
  },
  {
   "cell_type": "code",
   "execution_count": null,
   "id": "mysterious-fairy",
   "metadata": {},
   "outputs": [],
   "source": [
    "y_val_pred = logist.predict(X_val)"
   ]
  },
  {
   "cell_type": "code",
   "execution_count": null,
   "id": "silent-harassment",
   "metadata": {},
   "outputs": [],
   "source": [
    "precision_recall_fscore_support(y_val, y_val_pred, average=\"binary\")"
   ]
  },
  {
   "cell_type": "markdown",
   "id": "married-intent",
   "metadata": {},
   "source": [
    "## **Topic models**"
   ]
  },
  {
   "cell_type": "code",
   "execution_count": null,
   "id": "suburban-uniform",
   "metadata": {},
   "outputs": [],
   "source": []
  }
 ],
 "metadata": {
  "kernelspec": {
   "display_name": "Python 3",
   "language": "python",
   "name": "python3"
  },
  "language_info": {
   "codemirror_mode": {
    "name": "ipython",
    "version": 3
   },
   "file_extension": ".py",
   "mimetype": "text/x-python",
   "name": "python",
   "nbconvert_exporter": "python",
   "pygments_lexer": "ipython3",
   "version": "3.7.4"
  }
 },
 "nbformat": 4,
 "nbformat_minor": 5
}
