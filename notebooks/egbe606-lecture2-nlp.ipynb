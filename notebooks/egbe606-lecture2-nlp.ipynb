{
 "cells": [
  {
   "cell_type": "markdown",
   "id": "processed-portrait",
   "metadata": {},
   "source": [
    "## **Regular expression**"
   ]
  },
  {
   "cell_type": "code",
   "execution_count": null,
   "id": "geographic-cradle",
   "metadata": {},
   "outputs": [],
   "source": [
    "import re"
   ]
  },
  {
   "cell_type": "code",
   "execution_count": null,
   "id": "unlike-event",
   "metadata": {},
   "outputs": [],
   "source": [
    "address = \"University of Pennsylvania, Philadelphia, PA 19104\"\n",
    "re.search('\\d{5}(-\\d{4})?$', address).group()"
   ]
  },
  {
   "cell_type": "markdown",
   "id": "guided-jackson",
   "metadata": {},
   "source": [
    "## **Text normalization**\n",
    "\n",
    "- Lemmatization"
   ]
  },
  {
   "cell_type": "code",
   "execution_count": null,
   "id": "detailed-reset",
   "metadata": {},
   "outputs": [],
   "source": [
    "import spacy\n",
    "\n",
    "nlp = spacy.load(\"en_core_web_sm\")"
   ]
  },
  {
   "cell_type": "code",
   "execution_count": null,
   "id": "suburban-council",
   "metadata": {},
   "outputs": [],
   "source": [
    "text = (\n",
    "    \"The Martian is a 2011 science fiction debut novel written by Andy Weir. \"\n",
    "    \"The book was originally self-published on Weir's blog, in a serialized format. \"\n",
    "    \"In 2014, the book was re-released after Crown Publishing Group purchased the exclusive publishing rights.\"\n",
    ")\n",
    "text = nlp(text)"
   ]
  },
  {
   "cell_type": "code",
   "execution_count": null,
   "id": "square-surgery",
   "metadata": {},
   "outputs": [],
   "source": [
    "# is -> be, written -> write\n",
    "print(' '.join([token.lemma_ for token in text]))"
   ]
  },
  {
   "cell_type": "code",
   "execution_count": null,
   "id": "renewable-cutting",
   "metadata": {},
   "outputs": [],
   "source": [
    "# Clean HTML Tag\n",
    "from bs4 import BeautifulSoup\n",
    "text = (\n",
    "    \"<p><b>The Martian</b> is a 2011 science fiction debut novel written by Andy Weir.</p> \"\n",
    "    \"<p>The book was originally self-published on Weir's blog, in a serialized format.</p> \"\n",
    "    \"<p>In 2014, the book was re-released after Crown Publishing Group purchased the exclusive publishing rights.</p>\"\n",
    ")\n",
    "outtext = BeautifulSoup(text, \"html.parser\").text\n",
    "print(outtext)"
   ]
  },
  {
   "cell_type": "markdown",
   "id": "composed-acrylic",
   "metadata": {},
   "source": [
    "## **Sentiment analysis**"
   ]
  },
  {
   "cell_type": "code",
   "execution_count": null,
   "id": "possible-valley",
   "metadata": {},
   "outputs": [],
   "source": [
    "import pandas as pd\n",
    "from sklearn.model_selection import train_test_split\n",
    "from sklearn.feature_extraction.text import CountVectorizer\n",
    "from sklearn.linear_model import LogisticRegression\n",
    "from sklearn.metrics import precision_recall_fscore_support"
   ]
  },
  {
   "cell_type": "code",
   "execution_count": null,
   "id": "colored-scope",
   "metadata": {},
   "outputs": [],
   "source": [
    "path = \"https://raw.githubusercontent.com/vineetdhanawat/twitter-sentiment-analysis/master/datasets/Sentiment%20Analysis%20Dataset%20100000.csv\""
   ]
  },
  {
   "cell_type": "code",
   "execution_count": null,
   "id": "powered-newsletter",
   "metadata": {},
   "outputs": [],
   "source": [
    "df = pd.read_csv(path, encoding=\"ISO-8859-1\")"
   ]
  },
  {
   "cell_type": "code",
   "execution_count": null,
   "id": "restricted-saver",
   "metadata": {},
   "outputs": [],
   "source": [
    "df_train, df_val = train_test_split(df)"
   ]
  },
  {
   "cell_type": "code",
   "execution_count": null,
   "id": "collective-facing",
   "metadata": {},
   "outputs": [],
   "source": [
    "count = CountVectorizer()\n",
    "X_train = count.fit_transform(df_train.SentimentText)\n",
    "y_train = df_train.Sentiment.values"
   ]
  },
  {
   "cell_type": "code",
   "execution_count": null,
   "id": "engaging-church",
   "metadata": {},
   "outputs": [],
   "source": [
    "X_val = count.transform(df_val.SentimentText)\n",
    "y_val = df_val.Sentiment.values"
   ]
  },
  {
   "cell_type": "code",
   "execution_count": null,
   "id": "effective-africa",
   "metadata": {},
   "outputs": [],
   "source": [
    "logist = LogisticRegression()\n",
    "logist.fit(X_train, y_train)"
   ]
  },
  {
   "cell_type": "code",
   "execution_count": null,
   "id": "southeast-variance",
   "metadata": {},
   "outputs": [],
   "source": [
    "y_pred = logist.predict(X_train)"
   ]
  },
  {
   "cell_type": "code",
   "execution_count": null,
   "id": "hybrid-teddy",
   "metadata": {},
   "outputs": [],
   "source": [
    "precision_recall_fscore_support(y_train, y_pred, average=\"binary\")"
   ]
  },
  {
   "cell_type": "code",
   "execution_count": null,
   "id": "mysterious-fairy",
   "metadata": {},
   "outputs": [],
   "source": [
    "y_val_pred = logist.predict(X_val)"
   ]
  },
  {
   "cell_type": "code",
   "execution_count": null,
   "id": "silent-harassment",
   "metadata": {},
   "outputs": [],
   "source": [
    "precision_recall_fscore_support(y_val, y_val_pred, average=\"binary\")"
   ]
  },
  {
   "cell_type": "markdown",
   "id": "married-intent",
   "metadata": {},
   "source": [
    "## **Topic models**"
   ]
  },
  {
   "cell_type": "code",
   "execution_count": null,
   "id": "suburban-uniform",
   "metadata": {},
   "outputs": [],
   "source": [
    "import pandas as pd\n",
    "from sklearn.feature_extraction.text import CountVectorizer\n",
    "from sklearn.decomposition import NMF, LatentDirichletAllocation\n",
    "import matplotlib.pyplot as plt"
   ]
  },
  {
   "cell_type": "code",
   "execution_count": null,
   "id": "brown-passenger",
   "metadata": {},
   "outputs": [],
   "source": [
    "nmc_df = pd.read_csv(\n",
    "    \"https://raw.githubusercontent.com/neuromatch/nmc-box/master/sitedata/agenda/agenda-2020-3.csv\"\n",
    ").fillna(\"\")"
   ]
  },
  {
   "cell_type": "code",
   "execution_count": null,
   "id": "close-firmware",
   "metadata": {},
   "outputs": [],
   "source": [
    "n_features = 1000\n",
    "n_components = 10 # number of topics\n",
    "n_top_words = 20  # number of words in a topic\n",
    "\n",
    "def plot_top_words(model, feature_names, n_top_words, title):\n",
    "    \"\"\"\n",
    "    Reference: https://scikit-learn.org/stable/auto_examples/applications/plot_topics_extraction_with_nmf_lda.html\n",
    "    \"\"\"\n",
    "    fig, axes = plt.subplots(2, 5, figsize=(30, 15), sharex=True)\n",
    "    axes = axes.flatten()\n",
    "    for topic_idx, topic in enumerate(model.components_):\n",
    "        top_features_ind = topic.argsort()[: -n_top_words - 1 : -1]\n",
    "        top_features = [feature_names[i] for i in top_features_ind]\n",
    "        weights = topic[top_features_ind]\n",
    "\n",
    "        ax = axes[topic_idx]\n",
    "        ax.barh(top_features, weights, height=0.7)\n",
    "        ax.set_title(f\"Topic {topic_idx +1}\", fontdict={\"fontsize\": 30})\n",
    "        ax.invert_yaxis()\n",
    "        ax.tick_params(axis=\"both\", which=\"major\", labelsize=20)\n",
    "        for i in \"top right left\".split():\n",
    "            ax.spines[i].set_visible(False)\n",
    "        fig.suptitle(title, fontsize=40)\n",
    "\n",
    "    plt.subplots_adjust(top=0.90, bottom=0.05, wspace=0.90, hspace=0.3)\n",
    "    plt.show()"
   ]
  },
  {
   "cell_type": "code",
   "execution_count": null,
   "id": "smart-drunk",
   "metadata": {},
   "outputs": [],
   "source": [
    "tfidf_vectorizer = TfidfVectorizer(\n",
    "    max_df=0.95, min_df=2,\n",
    "    max_features=n_features,\n",
    "    stop_words=\"english\"\n",
    ")"
   ]
  },
  {
   "cell_type": "code",
   "execution_count": null,
   "id": "enabling-memphis",
   "metadata": {},
   "outputs": [],
   "source": [
    "abstracts = list(nmc_df[\"title\"] + \" \" + nmc_df[\"abstract\"])\n",
    "X_tfidf = tfidf_vectorizer.fit_transform(abstracts)"
   ]
  },
  {
   "cell_type": "code",
   "execution_count": null,
   "id": "marked-receptor",
   "metadata": {},
   "outputs": [],
   "source": [
    "nmf = NMF(n_components=n_components, random_state=1, alpha=0.1, l1_ratio=0.5).fit(X_tfidf)"
   ]
  },
  {
   "cell_type": "code",
   "execution_count": null,
   "id": "exposed-differential",
   "metadata": {},
   "outputs": [],
   "source": [
    "feature_names = tfidf_vectorizer.get_feature_names()\n",
    "plot_top_words(\n",
    "    nmf,\n",
    "    feature_names,\n",
    "    n_top_words,\n",
    "    \"Topics in NMF topic model\",\n",
    ")"
   ]
  },
  {
   "cell_type": "code",
   "execution_count": null,
   "id": "built-october",
   "metadata": {},
   "outputs": [],
   "source": [
    "count_vectorizer = CountVectorizer(\n",
    "    max_df=0.95, min_df=2, max_features=n_features, stop_words=\"english\"\n",
    ")\n",
    "X_count = count_vectorizer.fit_transform(abstracts)"
   ]
  },
  {
   "cell_type": "code",
   "execution_count": null,
   "id": "biblical-medicaid",
   "metadata": {},
   "outputs": [],
   "source": [
    "lda = LatentDirichletAllocation(\n",
    "    n_components=n_components,\n",
    "    max_iter=50,\n",
    "    learning_method=\"online\",\n",
    "    learning_offset=50.0,\n",
    "    random_state=0,\n",
    ")\n",
    "X_lda = lda.fit_transform(X_count)\n",
    "plot_top_words(\n",
    "    lda,\n",
    "    feature_names,\n",
    "    n_top_words,\n",
    "    \"Topics in LDA model\",\n",
    ")"
   ]
  },
  {
   "cell_type": "markdown",
   "id": "stone-biology",
   "metadata": {},
   "source": [
    "## **Look at NMF topics**"
   ]
  },
  {
   "cell_type": "code",
   "execution_count": null,
   "id": "metric-healing",
   "metadata": {},
   "outputs": [],
   "source": [
    "feature_names = tfidf_vectorizer.get_feature_names()\n",
    "plot_top_words(\n",
    "    nmf,\n",
    "    feature_names,\n",
    "    n_top_words,\n",
    "    \"Topics in NMF topic model\",\n",
    ")"
   ]
  },
  {
   "cell_type": "code",
   "execution_count": null,
   "id": "knowing-configuration",
   "metadata": {},
   "outputs": [],
   "source": [
    "X_nmf = nmf.transform(X_tfidf)"
   ]
  },
  {
   "cell_type": "code",
   "execution_count": null,
   "id": "blessed-teacher",
   "metadata": {},
   "outputs": [],
   "source": [
    "from collections import Counter"
   ]
  },
  {
   "cell_type": "code",
   "execution_count": null,
   "id": "prescription-witness",
   "metadata": {},
   "outputs": [],
   "source": [
    "Counter(X_nmf.argmax(axis=1))"
   ]
  },
  {
   "cell_type": "code",
   "execution_count": null,
   "id": "stable-mexican",
   "metadata": {},
   "outputs": [],
   "source": [
    "# test printing on one topic\n",
    "idx = 50\n",
    "print(\"Components\", X_nmf[idx, :])\n",
    "print(\"Paper title: \", nmc_df.iloc[idx].title)"
   ]
  }
 ],
 "metadata": {
  "kernelspec": {
   "display_name": "Python 3",
   "language": "python",
   "name": "python3"
  },
  "language_info": {
   "codemirror_mode": {
    "name": "ipython",
    "version": 3
   },
   "file_extension": ".py",
   "mimetype": "text/x-python",
   "name": "python",
   "nbconvert_exporter": "python",
   "pygments_lexer": "ipython3",
   "version": "3.7.4"
  }
 },
 "nbformat": 4,
 "nbformat_minor": 5
}
