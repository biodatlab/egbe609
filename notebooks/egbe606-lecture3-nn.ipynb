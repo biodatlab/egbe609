{
 "cells": [
  {
   "cell_type": "markdown",
   "id": "honest-trick",
   "metadata": {},
   "source": [
    "## **Simple neural network with Pytorch**"
   ]
  },
  {
   "cell_type": "code",
   "execution_count": null,
   "id": "general-arbitration",
   "metadata": {},
   "outputs": [],
   "source": [
    "from tqdm.auto import tqdm\n",
    "\n",
    "import torch\n",
    "import torch.nn as nn\n",
    "import torch.nn.functional as F\n",
    "import torch.optim as optim\n",
    "from torch.utils.data import DataLoader\n",
    "from torchvision import datasets, transforms\n",
    "from sklearn.metrics import accuracy_score, precision_recall_fscore_support"
   ]
  },
  {
   "cell_type": "code",
   "execution_count": null,
   "id": "distant-world",
   "metadata": {},
   "outputs": [],
   "source": [
    "transform=transforms.Compose([\n",
    "    transforms.ToTensor(),\n",
    "    transforms.Normalize((0.1307,), (0.3081,))\n",
    "])\n",
    "train_dataset = datasets.MNIST('../data', train=True, download=True, transform=transform)\n",
    "test_dataset = datasets.MNIST('../data', train=False, transform=transform)"
   ]
  },
  {
   "cell_type": "code",
   "execution_count": null,
   "id": "fossil-divorce",
   "metadata": {},
   "outputs": [],
   "source": [
    "import matplotlib.pyplot as plt\n",
    "idx = 1000\n",
    "plt.imshow(train_dataset.data[idx], cmap='gray')\n",
    "plt.title(f'Class: {train_dataset.targets[idx]}')\n",
    "plt.show()"
   ]
  },
  {
   "cell_type": "code",
   "execution_count": null,
   "id": "after-tourist",
   "metadata": {},
   "outputs": [],
   "source": [
    "train_loader = DataLoader(train_dataset, **{'batch_size': 32})\n",
    "test_loader = DataLoader(test_dataset, **{'batch_size': 32})"
   ]
  },
  {
   "cell_type": "code",
   "execution_count": null,
   "id": "athletic-terminology",
   "metadata": {},
   "outputs": [],
   "source": [
    "class OneLayerNN(nn.Module):\n",
    "    def __init__(self):\n",
    "        super(OneLayerNN, self).__init__()\n",
    "        # define layers here\n",
    "        self.fc = nn.Linear(784, 10)  # fc => fully connected layer, 28 * 28 = 784\n",
    "    \n",
    "    def forward(self, x):\n",
    "        x = x.view(x.size(0), -1)\n",
    "        x = self.fc(x)\n",
    "        output = F.log_softmax(x, dim=1)\n",
    "        return output"
   ]
  },
  {
   "cell_type": "code",
   "execution_count": null,
   "id": "underlying-silicon",
   "metadata": {},
   "outputs": [],
   "source": [
    "torch.manual_seed(126)\n",
    "device = torch.device(\"cuda\" if torch.cuda.is_available() else \"cpu\")  # check device\n",
    "model = OneLayerNN()\n",
    "optimizer = optim.Adam(model.parameters(), lr=0.001)  # variant of gradient descent algorithm"
   ]
  },
  {
   "cell_type": "code",
   "execution_count": null,
   "id": "threatened-ethics",
   "metadata": {},
   "outputs": [],
   "source": [
    "model.train()\n",
    "n_epochs = 1  # change here\n",
    "for epoch in range(1, n_epochs + 1):\n",
    "    for batch_idx, (data, target) in tqdm(enumerate(train_loader)):\n",
    "        optimizer.zero_grad()\n",
    "        output = model(data)\n",
    "        loss = F.nll_loss(output, target)\n",
    "        loss.backward()\n",
    "        optimizer.step()"
   ]
  },
  {
   "cell_type": "code",
   "execution_count": null,
   "id": "expressed-monaco",
   "metadata": {},
   "outputs": [],
   "source": [
    "def predict(input_data):\n",
    "    logit = model(input_data.unsqueeze(-1))\n",
    "    y_pred = F.softmax(logit, dim=1).argmax(dim=-1)\n",
    "    return y_pred"
   ]
  },
  {
   "cell_type": "code",
   "execution_count": null,
   "id": "persistent-loading",
   "metadata": {},
   "outputs": [],
   "source": [
    "data, target = next(iter(test_loader))\n",
    "idx = 3\n",
    "sample, y = data[idx], target[idx]\n",
    "plt.imshow(sample.squeeze(0), cmap='gray')\n",
    "plt.title(f'Actual class: {y}, Predicted class: {predict(sample)[0]}')\n",
    "plt.show()"
   ]
  },
  {
   "cell_type": "code",
   "execution_count": null,
   "id": "demographic-defense",
   "metadata": {},
   "outputs": [],
   "source": [
    "# predict all\n",
    "y_true, y_pred = [], []\n",
    "model.eval()\n",
    "with torch.no_grad():\n",
    "    for data, target in tqdm(test_loader):\n",
    "        data, target = data.to(device), target.to(device)\n",
    "        output = model(data)\n",
    "        pred = output.argmax(dim=1, keepdim=True)  # get the index of the max log-probability\n",
    "        y_true.extend(target.tolist())\n",
    "        y_pred.extend(pred.flatten().tolist())"
   ]
  },
  {
   "cell_type": "code",
   "execution_count": null,
   "id": "interim-traveler",
   "metadata": {},
   "outputs": [],
   "source": [
    "print(\"Accuracy\", accuracy_score(y_true, y_pred))\n",
    "print(\"Precision, Recall, F1-score\", precision_recall_fscore_support(y_true, y_pred, average=\"macro\"))"
   ]
  },
  {
   "cell_type": "markdown",
   "id": "formed-spell",
   "metadata": {},
   "source": [
    "## **Adding a layer to our neural network**"
   ]
  },
  {
   "cell_type": "code",
   "execution_count": null,
   "id": "acquired-insured",
   "metadata": {},
   "outputs": [],
   "source": [
    "class DoubleLayerNN(nn.Module):\n",
    "    def __init__(self):\n",
    "        super(DoubleLayerNN, self).__init__()\n",
    "        # define layers here\n",
    "        self.fc1 = nn.Linear(784, 100)  # fc => fully connected layer, 28 * 28 = 784\n",
    "        self.fc2 = nn.Linear(100, 10)\n",
    "    \n",
    "    def forward(self, x):\n",
    "        x = x.view(x.size(0), -1)\n",
    "        x = self.fc1(x)\n",
    "        x = F.relu(x)\n",
    "        x = self.fc2(x)\n",
    "        logit = F.log_softmax(x, dim=1)\n",
    "        return logit"
   ]
  },
  {
   "cell_type": "code",
   "execution_count": null,
   "id": "square-minority",
   "metadata": {},
   "outputs": [],
   "source": [
    "mode = DoubleLayerNN()"
   ]
  },
  {
   "cell_type": "code",
   "execution_count": null,
   "id": "dress-dutch",
   "metadata": {},
   "outputs": [],
   "source": [
    "model.train()\n",
    "n_epochs = 2  # change here\n",
    "for epoch in range(1, n_epochs + 1):\n",
    "    for batch_idx, (data, target) in tqdm(enumerate(train_loader)):\n",
    "        optimizer.zero_grad()\n",
    "        output = model(data)\n",
    "        loss = F.nll_loss(output, target)\n",
    "        loss.backward()\n",
    "        optimizer.step()"
   ]
  },
  {
   "cell_type": "code",
   "execution_count": null,
   "id": "adequate-marina",
   "metadata": {},
   "outputs": [],
   "source": [
    "# predict all\n",
    "y_true, y_pred = [], []\n",
    "model.eval()\n",
    "with torch.no_grad():\n",
    "    for data, target in tqdm(test_loader):\n",
    "        data, target = data.to(device), target.to(device)\n",
    "        output = model(data)\n",
    "        pred = output.argmax(dim=1, keepdim=True)  # get the index of the max log-probability\n",
    "        y_true.extend(target.tolist())\n",
    "        y_pred.extend(pred.flatten().tolist())"
   ]
  },
  {
   "cell_type": "code",
   "execution_count": null,
   "id": "downtown-plasma",
   "metadata": {},
   "outputs": [],
   "source": [
    "print(\"Accuracy\", accuracy_score(y_true, y_pred))\n",
    "print(\"Precision, Recall, F1-score\", precision_recall_fscore_support(y_true, y_pred, average=\"macro\"))"
   ]
  },
  {
   "cell_type": "markdown",
   "id": "medium-circular",
   "metadata": {},
   "source": [
    "## **Convolutional Neural Network (CCN)**"
   ]
  },
  {
   "cell_type": "code",
   "execution_count": null,
   "id": "close-batch",
   "metadata": {},
   "outputs": [],
   "source": [
    "class CNN(nn.Module):\n",
    "    def __init__(self):\n",
    "        super(CNN, self).__init__()\n",
    "        self.conv1 = nn.Conv2d(1, 32, 3, 1)\n",
    "        self.conv2 = nn.Conv2d(32, 64, 3, 1)\n",
    "        self.dropout1 = nn.Dropout(0.25)\n",
    "        self.dropout2 = nn.Dropout(0.25)\n",
    "        self.fc1 = nn.Linear(9216, 128)\n",
    "        self.fc2 = nn.Linear(128, 10)\n",
    "\n",
    "    def forward(self, x):\n",
    "        x = self.conv1(x)\n",
    "        x = F.relu(x)\n",
    "        x = self.conv2(x)\n",
    "        x = F.relu(x)\n",
    "        x = F.max_pool2d(x, 2)\n",
    "        x = self.dropout1(x)\n",
    "        x = torch.flatten(x, 1)\n",
    "        x = self.fc1(x)\n",
    "        x = F.relu(x)\n",
    "        x = self.dropout2(x)\n",
    "        x = self.fc2(x)\n",
    "        output = F.log_softmax(x, dim=1)\n",
    "        return output"
   ]
  },
  {
   "cell_type": "code",
   "execution_count": null,
   "id": "different-howard",
   "metadata": {},
   "outputs": [],
   "source": [
    "model_cnn = CNN()"
   ]
  },
  {
   "cell_type": "code",
   "execution_count": null,
   "id": "northern-library",
   "metadata": {},
   "outputs": [],
   "source": [
    "model_cnn.train()\n",
    "n_epochs = 15  # change here\n",
    "for epoch in range(1, n_epochs + 1):\n",
    "    for batch_idx, (data, target) in tqdm(enumerate(train_loader)):\n",
    "        optimizer.zero_grad()\n",
    "        output = model_cnn(data)\n",
    "        loss = F.nll_loss(output, target)\n",
    "        loss.backward()\n",
    "        optimizer.step()"
   ]
  },
  {
   "cell_type": "code",
   "execution_count": null,
   "id": "controversial-sister",
   "metadata": {},
   "outputs": [],
   "source": [
    "# predict all\n",
    "y_true, y_pred = [], []\n",
    "model_cnn.eval()\n",
    "with torch.no_grad():\n",
    "    for data, target in tqdm(test_loader):\n",
    "        data, target = data.to(device), target.to(device)\n",
    "        output = model_cnn(data)\n",
    "        pred = output.argmax(dim=1, keepdim=True)  # get the index of the max log-probability\n",
    "        y_true.extend(target.tolist())\n",
    "        y_pred.extend(pred.flatten().tolist())"
   ]
  },
  {
   "cell_type": "code",
   "execution_count": null,
   "id": "lesser-bargain",
   "metadata": {},
   "outputs": [],
   "source": [
    "print(\"Accuracy\", accuracy_score(y_true, y_pred))\n",
    "print(\"Precision, Recall, F1-score\", precision_recall_fscore_support(y_true, y_pred, average=\"macro\"))"
   ]
  },
  {
   "cell_type": "code",
   "execution_count": null,
   "id": "mighty-presentation",
   "metadata": {},
   "outputs": [],
   "source": []
  }
 ],
 "metadata": {
  "kernelspec": {
   "display_name": "Python 3",
   "language": "python",
   "name": "python3"
  },
  "language_info": {
   "codemirror_mode": {
    "name": "ipython",
    "version": 3
   },
   "file_extension": ".py",
   "mimetype": "text/x-python",
   "name": "python",
   "nbconvert_exporter": "python",
   "pygments_lexer": "ipython3",
   "version": "3.7.4"
  }
 },
 "nbformat": 4,
 "nbformat_minor": 5
}
